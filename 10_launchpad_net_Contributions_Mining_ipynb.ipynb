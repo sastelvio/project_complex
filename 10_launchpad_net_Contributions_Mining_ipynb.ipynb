{
  "cells": [
    {
      "cell_type": "code",
      "execution_count": null,
      "metadata": {
        "colab": {
          "base_uri": "https://localhost:8080/"
        },
        "id": "QTvF9VLikRuw",
        "outputId": "d7541b11-9f27-4d00-8e58-3d080801906e"
      },
      "outputs": [
        {
          "name": "stdout",
          "output_type": "stream",
          "text": [
            "Requirement already satisfied: gitpython in /usr/local/lib/python3.10/dist-packages (3.1.43)\n",
            "Requirement already satisfied: gitdb<5,>=4.0.1 in /usr/local/lib/python3.10/dist-packages (from gitpython) (4.0.11)\n",
            "Requirement already satisfied: smmap<6,>=3.0.1 in /usr/local/lib/python3.10/dist-packages (from gitdb<5,>=4.0.1->gitpython) (5.0.1)\n"
          ]
        }
      ],
      "source": [
        "!pip install gitpython\n",
        "\n",
        "from google.colab import drive\n",
        "import git\n",
        "import os\n",
        "import pandas as pd"
      ]
    },
    {
      "cell_type": "code",
      "execution_count": null,
      "metadata": {
        "colab": {
          "base_uri": "https://localhost:8080/"
        },
        "id": "FEir9ks9knWg",
        "outputId": "52509b40-f8d8-4c0d-ee2a-e596d37ecd49"
      },
      "outputs": [
        {
          "name": "stdout",
          "output_type": "stream",
          "text": [
            "Drive already mounted at /content/drive; to attempt to forcibly remount, call drive.mount(\"/content/drive\", force_remount=True).\n"
          ]
        }
      ],
      "source": [
        "# Mount Google Drive\n",
        "drive.mount('/content/drive')\n",
        "\n",
        "# Wait until Google Drive is mounted\n",
        "while not os.path.exists('/content/drive/My Drive/'):\n",
        "    pass\n",
        "\n",
        "# Drive folder to save the file\n",
        "# folder_path = '/content/drive/My Drive/IMT Atlantique/Semester 2/Project Complex/Coding/ubuntu.com/'\n",
        "folder_path = '/content/drive/My Drive/IMT Atlantique/Semester 2/Project Complex/ubuntu.com/'\n",
        "\n",
        "\n",
        "# Create the folder if it doesn't exist\n",
        "os.makedirs(folder_path, exist_ok=True)"
      ]
    },
    {
      "cell_type": "code",
      "execution_count": null,
      "metadata": {
        "id": "WJFiS4qnksdF"
      },
      "outputs": [],
      "source": [
        "\"\"\"Clone repositories from ubuntu.com\"\"\"\n",
        "\n",
        "# Function to get the size of a directory\n",
        "def get_directory_size(path):\n",
        "    total_size = 0\n",
        "    for dirpath, dirnames, filenames in os.walk(path):\n",
        "        for filename in filenames:\n",
        "            filepath = os.path.join(dirpath, filename)\n",
        "            total_size += os.path.getsize(filepath)\n",
        "    return total_size"
      ]
    },
    {
      "cell_type": "code",
      "execution_count": null,
      "metadata": {
        "id": "h2_wQW53k1lx"
      },
      "outputs": [],
      "source": [
        "# Function to count the number of commits in a repository\n",
        "def count_commits(repo_path):\n",
        "    repo = git.Repo(repo_path)\n",
        "    return len(list(repo.iter_commits()))"
      ]
    },
    {
      "cell_type": "code",
      "execution_count": null,
      "metadata": {
        "id": "_QrR1Tm4k5XL"
      },
      "outputs": [],
      "source": [
        "\"\"\"Fetch commit history\"\"\"\n",
        "\n",
        "# Function to fetch commit history\n",
        "def fetch_commit_history(repo_path):\n",
        "    repo = git.Repo(repo_path)\n",
        "    commits = repo.iter_commits()\n",
        "    commit_history = []\n",
        "\n",
        "    for commit in commits:\n",
        "        commit_info = {\n",
        "            \"commit_id\": commit.hexsha,\n",
        "            \"author\": commit.author.name,\n",
        "            \"email\": commit.author.email,\n",
        "            \"timestamp\": commit.authored_datetime,\n",
        "            \"message\": commit.message\n",
        "        }\n",
        "        commit_history.append(commit_info)\n",
        "\n",
        "    return commit_history"
      ]
    },
    {
      "cell_type": "code",
      "execution_count": null,
      "metadata": {
        "id": "csWQ_Iqzk9f9"
      },
      "outputs": [],
      "source": [
        "# Define repository paths\n",
        "repository_paths = [\n",
        "    folder_path + \"/repos/dpkg\",\n",
        "    folder_path + \"/repos/glibc\",\n",
        "    folder_path + \"/repos/systemd\",\n",
        "    folder_path + \"/repos/apt\"\n",
        "    #\"/content/ubuntu-dev-tools\"\n",
        "]"
      ]
    },
    {
      "cell_type": "code",
      "execution_count": null,
      "metadata": {
        "id": "hlFkRNdrlBt0"
      },
      "outputs": [],
      "source": [
        "# List of repositories to clone\n",
        "repositories = [\n",
        "    \"https://git.launchpad.net/ubuntu/+source/dpkg\",\n",
        "    \"https://git.launchpad.net/ubuntu/+source/glibc\",\n",
        "    \"https://git.launchpad.net/ubuntu/+source/systemd\",  #systemd\n",
        "    \"https://git.launchpad.net/ubuntu/+source/apt\"     #apt\n",
        "    #\"https://git.launchpad.net/~ubuntu-core-dev/ubuntu-dev-tools.git\"\n",
        "]"
      ]
    },
    {
      "cell_type": "code",
      "execution_count": null,
      "metadata": {
        "colab": {
          "background_save": true
        },
        "id": "X-4YdeUllGiC"
      },
      "outputs": [],
      "source": [
        "# Create dataframes for each repository\n",
        "repo_dataframes = {}\n",
        "\n",
        "# Fetch commit history for each repository\n",
        "for repo_url in repositories:\n",
        "    # Extract repository name from URL\n",
        "    repo_name = repo_url.split(\"/\")[-1].replace(\".git\", \"\")\n",
        "    repo_path = f\"{folder_path}/repos/{repo_name}\"\n",
        "\n",
        "    # Check if the repository directory exists\n",
        "    if not os.path.exists(repo_path):\n",
        "        # Clone repository\n",
        "        git.Repo.clone_from(repo_url, repo_path)\n",
        "        print(f\"Cloned {repo_name}\")\n",
        "    else:\n",
        "        print(f\"Repository {repo_name} already exists, skipping cloning.\")\n",
        "\n",
        "      # Initialize variables\n",
        "    repo_size = 0\n",
        "    commits_count = 0\n",
        "    commit_history = []\n",
        "\n",
        "    try:\n",
        "        # Get repository size\n",
        "        repo_size = get_directory_size(repo_path)\n",
        "\n",
        "        # Count commits\n",
        "        commits_count = count_commits(repo_path)\n",
        "\n",
        "        # Fetch commit history\n",
        "        commit_history = fetch_commit_history(repo_path)\n",
        "    except git.exc.InvalidGitRepositoryError:\n",
        "        print(f\"Invalid Git repository: {repo_name}\")\n",
        "\n",
        "    # Create dataframe\n",
        "    df = pd.DataFrame(commit_history)\n",
        "    df['repository'] = repo_name\n",
        "    df['repository_size'] = repo_size\n",
        "    df['commits_count'] = commits_count\n",
        "\n",
        "    # Store dataframe\n",
        "    repo_dataframes[repo_name] = df"
      ]
    },
    {
      "cell_type": "code",
      "execution_count": null,
      "metadata": {
        "colab": {
          "background_save": true
        },
        "id": "DpLDpGzflMFQ"
      },
      "outputs": [],
      "source": [
        "\n",
        "print(\"Dataframes created for each repository:\")\n",
        "for repo_name, df in repo_dataframes.items():\n",
        "    #print(f\"\\nRepository: {repo_name}\")\n",
        "    #print(df.head())\n",
        "\n",
        "    # Generate the file name with the current date\n",
        "    file_name = f'{repo_name}.csv'\n",
        "    file_path = os.path.join(folder_path + \"data/\", file_name)\n",
        "\n",
        "    # Export the data to a CSV file with the generated file name\n",
        "    df.to_csv(file_path, index=False)"
      ]
    }
  ],
  "metadata": {
    "colab": {
      "provenance": []
    },
    "kernelspec": {
      "display_name": "Python 3",
      "name": "python3"
    },
    "language_info": {
      "name": "python"
    }
  },
  "nbformat": 4,
  "nbformat_minor": 0
}